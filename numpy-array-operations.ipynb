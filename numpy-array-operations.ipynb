{
 "cells": [
  {
   "cell_type": "markdown",
   "metadata": {
    "id": "IV3QXtCZb3Br"
   },
   "source": [
    "> ### **Assignment 2 - Numpy Array Operations** \n",
    ">\n",
    "> This assignment is part of the course [\"Data Analysis with Python: Zero to Pandas\"](http://zerotopandas.com). The objective of this assignment is to develop a solid understanding of Numpy array operations. In this assignment you will:\n",
    "> \n",
    "> 1. Pick 5 interesting Numpy array functions by going through the documentation: https://numpy.org/doc/stable/reference/routines.html \n",
    "> 2. Run and modify this Jupyter notebook to illustrate their usage (some explanation and 3 examples for each function). Use your imagination to come up with interesting and unique examples.\n",
    "> 3. Upload this notebook to your Jovian profile using `jovian.commit` and make a submission here: https://jovian.ml/learn/data-analysis-with-python-zero-to-pandas/assignment/assignment-2-numpy-array-operations\n",
    "> 4. (Optional) Share your notebook online (on Twitter, LinkedIn, Facebook) and on the community forum thread: https://jovian.ml/forum/t/assignment-2-numpy-array-operations-share-your-work/10575 . \n",
    "> 5. (Optional) Check out the notebooks [shared by other participants](https://jovian.ml/forum/t/assignment-2-numpy-array-operations-share-your-work/10575) and give feedback & appreciation.\n",
    ">\n",
    "> The recommended way to run this notebook is to click the \"Run\" button at the top of this page, and select \"Run on Binder\". This will run the notebook on mybinder.org, a free online service for running Jupyter notebooks.\n",
    ">\n",
    "> Try to give your notebook a catchy title & subtitle e.g. \"All about Numpy array operations\", \"5 Numpy functions you didn't know you needed\", \"A beginner's guide to broadcasting in Numpy\", \"Interesting ways to create Numpy arrays\", \"Trigonometic functions in Numpy\", \"How to use Python for Linear Algebra\" etc.\n",
    ">\n",
    "> **NOTE**: Remove this block of explanation text before submitting or sharing your notebook online - to make it more presentable.\n",
    "\n",
    "\n",
    "# 5 Numpy functions which you know to use\n",
    "\n",
    "\n",
    "np.linalg.solve\n",
    "np.char.count\n",
    "np.place\n",
    "np.extract\n",
    "np.clip\n",
    "\n",
    "The recommended way to run this notebook is to click the \"Run\" button at the top of this page, and select \"Run on Binder\". This will run the notebook on mybinder.org, a free online service for running Jupyter notebooks."
   ]
  },
  {
   "cell_type": "code",
   "execution_count": 2,
   "metadata": {
    "executionInfo": {
     "elapsed": 3592,
     "status": "ok",
     "timestamp": 1629729416518,
     "user": {
      "displayName": "Syed Atif",
      "photoUrl": "https://lh3.googleusercontent.com/a-/AOh14Gijy0H6X_fb5gV6iXEf3gfUlW7IhmW5DoTVmaA8hw=s64",
      "userId": "02215579649076969447"
     },
     "user_tz": -330
    },
    "id": "kE7ErZJFb3Bw"
   },
   "outputs": [],
   "source": [
    "!pip install jovian --upgrade -q"
   ]
  },
  {
   "cell_type": "code",
   "execution_count": null,
   "metadata": {
    "id": "eUf4MRXJb3By"
   },
   "outputs": [],
   "source": [
    "import jovian"
   ]
  },
  {
   "cell_type": "code",
   "execution_count": 4,
   "metadata": {
    "colab": {
     "base_uri": "https://localhost:8080/",
     "height": 122
    },
    "executionInfo": {
     "elapsed": 20089,
     "status": "ok",
     "timestamp": 1629729462999,
     "user": {
      "displayName": "Syed Atif",
      "photoUrl": "https://lh3.googleusercontent.com/a-/AOh14Gijy0H6X_fb5gV6iXEf3gfUlW7IhmW5DoTVmaA8hw=s64",
      "userId": "02215579649076969447"
     },
     "user_tz": -330
    },
    "id": "E63-5BBsb3B0",
    "outputId": "fa1023f7-e2a7-4a84-93bf-189ffd60e983"
   },
   "outputs": [
    {
     "name": "stdout",
     "output_type": "stream",
     "text": [
      "[jovian] Detected Colab notebook...\u001b[0m\n",
      "[jovian] Please enter your API key ( from https://jovian.ai/ ):\u001b[0m\n",
      "API KEY: ··········\n",
      "[jovian] Uploading colab notebook to Jovian...\u001b[0m\n",
      "Committed successfully! https://jovian.ai/syedatif4118/numpy-array-operations\n"
     ]
    },
    {
     "data": {
      "application/vnd.google.colaboratory.intrinsic+json": {
       "type": "string"
      },
      "text/plain": [
       "'https://jovian.ai/syedatif4118/numpy-array-operations'"
      ]
     },
     "execution_count": 4,
     "metadata": {},
     "output_type": "execute_result"
    }
   ],
   "source": [
    "jovian.commit(project='numpy-array-operations')"
   ]
  },
  {
   "cell_type": "markdown",
   "metadata": {
    "id": "rLj2ifu4b3B2"
   },
   "source": [
    "Let's begin by importing Numpy and listing out the functions covered in this notebook."
   ]
  },
  {
   "cell_type": "code",
   "execution_count": 5,
   "metadata": {
    "executionInfo": {
     "elapsed": 418,
     "status": "ok",
     "timestamp": 1629729466442,
     "user": {
      "displayName": "Syed Atif",
      "photoUrl": "https://lh3.googleusercontent.com/a-/AOh14Gijy0H6X_fb5gV6iXEf3gfUlW7IhmW5DoTVmaA8hw=s64",
      "userId": "02215579649076969447"
     },
     "user_tz": -330
    },
    "id": "4XNzV6Jrb3B4"
   },
   "outputs": [],
   "source": [
    "import numpy as np"
   ]
  },
  {
   "cell_type": "code",
   "execution_count": 6,
   "metadata": {
    "executionInfo": {
     "elapsed": 399,
     "status": "ok",
     "timestamp": 1629729487150,
     "user": {
      "displayName": "Syed Atif",
      "photoUrl": "https://lh3.googleusercontent.com/a-/AOh14Gijy0H6X_fb5gV6iXEf3gfUlW7IhmW5DoTVmaA8hw=s64",
      "userId": "02215579649076969447"
     },
     "user_tz": -330
    },
    "id": "-FLweICtb3CB"
   },
   "outputs": [],
   "source": [
    "# List of functions explained \n",
    "function1 = np.linalg.solve  \n",
    "function2 = np.char.count\n",
    "function3 = np.place\n",
    "function4 = np.extract\n",
    "function5 = np.clip"
   ]
  },
  {
   "cell_type": "markdown",
   "metadata": {
    "id": "ZIux_wApb3CD"
   },
   "source": [
    "\n",
    "\n",
    "## Function 1 - np.linalg.solve\n",
    "\n",
    "This function falls under the category of linear algebric function. Generally we have to solve liner equations to get the required value. By using this function, we can solve the equations and solve the problems."
   ]
  },
  {
   "cell_type": "code",
   "execution_count": 7,
   "metadata": {
    "colab": {
     "base_uri": "https://localhost:8080/"
    },
    "executionInfo": {
     "elapsed": 431,
     "status": "ok",
     "timestamp": 1629729504941,
     "user": {
      "displayName": "Syed Atif",
      "photoUrl": "https://lh3.googleusercontent.com/a-/AOh14Gijy0H6X_fb5gV6iXEf3gfUlW7IhmW5DoTVmaA8hw=s64",
      "userId": "02215579649076969447"
     },
     "user_tz": -330
    },
    "id": "yOs_xG3sb3CH",
    "outputId": "c1244789-1d08-4d20-f7ce-c1931cb096f6"
   },
   "outputs": [
    {
     "data": {
      "text/plain": [
       "array([  5., -11.])"
      ]
     },
     "execution_count": 7,
     "metadata": {},
     "output_type": "execute_result"
    }
   ],
   "source": [
    "# Example 1 - working \n",
    "a = np.array([[5, 2], \n",
    "        [3, 1]])\n",
    "\n",
    "b = np.array([3, 4])\n",
    "\n",
    "x=np.linalg.solve(a,b)\n",
    "x"
   ]
  },
  {
   "cell_type": "markdown",
   "metadata": {
    "id": "tkelLKccb3CI"
   },
   "source": [
    "This is the example of linear system of equations of two variables.So we get two values as a solution. "
   ]
  },
  {
   "cell_type": "code",
   "execution_count": 8,
   "metadata": {
    "colab": {
     "base_uri": "https://localhost:8080/"
    },
    "executionInfo": {
     "elapsed": 430,
     "status": "ok",
     "timestamp": 1629729520914,
     "user": {
      "displayName": "Syed Atif",
      "photoUrl": "https://lh3.googleusercontent.com/a-/AOh14Gijy0H6X_fb5gV6iXEf3gfUlW7IhmW5DoTVmaA8hw=s64",
      "userId": "02215579649076969447"
     },
     "user_tz": -330
    },
    "id": "AGKPyPDLb3CJ",
    "outputId": "f4c28f76-fb04-47d8-a73b-4815bd5d95ab"
   },
   "outputs": [
    {
     "data": {
      "text/plain": [
       "array([-1.13333333,  1.28333333,  1.08333333])"
      ]
     },
     "execution_count": 8,
     "metadata": {},
     "output_type": "execute_result"
    }
   ],
   "source": [
    "# Example 2 - working\n",
    "c=np.array([[2,3,5],[6,9,3],[5,5,3]])\n",
    "\n",
    "d=np.array([7,8,4])\n",
    "\n",
    "y=np.linalg.solve(c,d)\n",
    "\n",
    "y"
   ]
  },
  {
   "cell_type": "markdown",
   "metadata": {
    "id": "PdU-676kb3CK"
   },
   "source": [
    "This is the example of linear system of equations of three variables.In this case we get the three  solutions."
   ]
  },
  {
   "cell_type": "code",
   "execution_count": 9,
   "metadata": {
    "colab": {
     "base_uri": "https://localhost:8080/",
     "height": 377
    },
    "executionInfo": {
     "elapsed": 524,
     "status": "error",
     "timestamp": 1629729622726,
     "user": {
      "displayName": "Syed Atif",
      "photoUrl": "https://lh3.googleusercontent.com/a-/AOh14Gijy0H6X_fb5gV6iXEf3gfUlW7IhmW5DoTVmaA8hw=s64",
      "userId": "02215579649076969447"
     },
     "user_tz": -330
    },
    "id": "7sVLHgwWb3CL",
    "outputId": "e16cef79-7ad8-4a6a-b84c-5e53cd30b082"
   },
   "outputs": [
    {
     "ename": "ValueError",
     "evalue": "ignored",
     "output_type": "error",
     "traceback": [
      "\u001b[0;31m---------------------------------------------------------------------------\u001b[0m",
      "\u001b[0;31mValueError\u001b[0m                                Traceback (most recent call last)",
      "\u001b[0;32m<ipython-input-9-1c53d35f2518>\u001b[0m in \u001b[0;36m<module>\u001b[0;34m()\u001b[0m\n\u001b[1;32m      6\u001b[0m \u001b[0mf\u001b[0m\u001b[0;34m=\u001b[0m\u001b[0mnp\u001b[0m\u001b[0;34m.\u001b[0m\u001b[0marray\u001b[0m\u001b[0;34m(\u001b[0m\u001b[0;34m[\u001b[0m\u001b[0;36m4\u001b[0m\u001b[0;34m,\u001b[0m\u001b[0;36m6\u001b[0m\u001b[0;34m]\u001b[0m\u001b[0;34m)\u001b[0m\u001b[0;34m\u001b[0m\u001b[0;34m\u001b[0m\u001b[0m\n\u001b[1;32m      7\u001b[0m \u001b[0;34m\u001b[0m\u001b[0m\n\u001b[0;32m----> 8\u001b[0;31m \u001b[0mx\u001b[0m\u001b[0;34m=\u001b[0m\u001b[0mnp\u001b[0m\u001b[0;34m.\u001b[0m\u001b[0mlinalg\u001b[0m\u001b[0;34m.\u001b[0m\u001b[0msolve\u001b[0m\u001b[0;34m(\u001b[0m\u001b[0me\u001b[0m\u001b[0;34m,\u001b[0m\u001b[0mf\u001b[0m\u001b[0;34m)\u001b[0m\u001b[0;34m\u001b[0m\u001b[0;34m\u001b[0m\u001b[0m\n\u001b[0m\u001b[1;32m      9\u001b[0m \u001b[0mx\u001b[0m\u001b[0;34m\u001b[0m\u001b[0;34m\u001b[0m\u001b[0m\n",
      "\u001b[0;32m<__array_function__ internals>\u001b[0m in \u001b[0;36msolve\u001b[0;34m(*args, **kwargs)\u001b[0m\n",
      "\u001b[0;32m/usr/local/lib/python3.7/dist-packages/numpy/linalg/linalg.py\u001b[0m in \u001b[0;36msolve\u001b[0;34m(a, b)\u001b[0m\n\u001b[1;32m    392\u001b[0m     \u001b[0msignature\u001b[0m \u001b[0;34m=\u001b[0m \u001b[0;34m'DD->D'\u001b[0m \u001b[0;32mif\u001b[0m \u001b[0misComplexType\u001b[0m\u001b[0;34m(\u001b[0m\u001b[0mt\u001b[0m\u001b[0;34m)\u001b[0m \u001b[0;32melse\u001b[0m \u001b[0;34m'dd->d'\u001b[0m\u001b[0;34m\u001b[0m\u001b[0;34m\u001b[0m\u001b[0m\n\u001b[1;32m    393\u001b[0m     \u001b[0mextobj\u001b[0m \u001b[0;34m=\u001b[0m \u001b[0mget_linalg_error_extobj\u001b[0m\u001b[0;34m(\u001b[0m\u001b[0m_raise_linalgerror_singular\u001b[0m\u001b[0;34m)\u001b[0m\u001b[0;34m\u001b[0m\u001b[0;34m\u001b[0m\u001b[0m\n\u001b[0;32m--> 394\u001b[0;31m     \u001b[0mr\u001b[0m \u001b[0;34m=\u001b[0m \u001b[0mgufunc\u001b[0m\u001b[0;34m(\u001b[0m\u001b[0ma\u001b[0m\u001b[0;34m,\u001b[0m \u001b[0mb\u001b[0m\u001b[0;34m,\u001b[0m \u001b[0msignature\u001b[0m\u001b[0;34m=\u001b[0m\u001b[0msignature\u001b[0m\u001b[0;34m,\u001b[0m \u001b[0mextobj\u001b[0m\u001b[0;34m=\u001b[0m\u001b[0mextobj\u001b[0m\u001b[0;34m)\u001b[0m\u001b[0;34m\u001b[0m\u001b[0;34m\u001b[0m\u001b[0m\n\u001b[0m\u001b[1;32m    395\u001b[0m \u001b[0;34m\u001b[0m\u001b[0m\n\u001b[1;32m    396\u001b[0m     \u001b[0;32mreturn\u001b[0m \u001b[0mwrap\u001b[0m\u001b[0;34m(\u001b[0m\u001b[0mr\u001b[0m\u001b[0;34m.\u001b[0m\u001b[0mastype\u001b[0m\u001b[0;34m(\u001b[0m\u001b[0mresult_t\u001b[0m\u001b[0;34m,\u001b[0m \u001b[0mcopy\u001b[0m\u001b[0;34m=\u001b[0m\u001b[0;32mFalse\u001b[0m\u001b[0;34m)\u001b[0m\u001b[0;34m)\u001b[0m\u001b[0;34m\u001b[0m\u001b[0;34m\u001b[0m\u001b[0m\n",
      "\u001b[0;31mValueError\u001b[0m: solve1: Input operand 1 has a mismatch in its core dimension 0, with gufunc signature (m,m),(m)->(m) (size 2 is different from 3)"
     ]
    }
   ],
   "source": [
    "# Example 3 - breaking \n",
    "e =np.array ([[1, 2,6], \n",
    "              [3, 4,8],\n",
    "             [5,7,9]])\n",
    "\n",
    "f=np.array([4,6])\n",
    "\n",
    "x=np.linalg.solve(e,f)\n",
    "x"
   ]
  },
  {
   "cell_type": "markdown",
   "metadata": {
    "id": "HH3K4W8Nb3CM"
   },
   "source": [
    "In this example the number of constant are not equal to the number of system of equations. Thats why this does not work. In order to run it correctly, we have to make the number of constant equal to the number of system of  equations."
   ]
  },
  {
   "cell_type": "markdown",
   "metadata": {
    "id": "BXb-55O0b3CM"
   },
   "source": [
    "This function is used generally to solve the system of linear equations. It is a common mathematical operation and reduce the time of operating in calculator."
   ]
  },
  {
   "cell_type": "code",
   "execution_count": 10,
   "metadata": {
    "colab": {
     "base_uri": "https://localhost:8080/",
     "height": 87
    },
    "executionInfo": {
     "elapsed": 2515,
     "status": "ok",
     "timestamp": 1629729669375,
     "user": {
      "displayName": "Syed Atif",
      "photoUrl": "https://lh3.googleusercontent.com/a-/AOh14Gijy0H6X_fb5gV6iXEf3gfUlW7IhmW5DoTVmaA8hw=s64",
      "userId": "02215579649076969447"
     },
     "user_tz": -330
    },
    "id": "lTQN6bqLb3CN",
    "outputId": "a504061a-2160-4548-b499-d5bb39be1cf1"
   },
   "outputs": [
    {
     "name": "stdout",
     "output_type": "stream",
     "text": [
      "[jovian] Detected Colab notebook...\u001b[0m\n",
      "[jovian] Uploading colab notebook to Jovian...\u001b[0m\n",
      "Committed successfully! https://jovian.ai/syedatif4118/numpy-array-operations\n"
     ]
    },
    {
     "data": {
      "application/vnd.google.colaboratory.intrinsic+json": {
       "type": "string"
      },
      "text/plain": [
       "'https://jovian.ai/syedatif4118/numpy-array-operations'"
      ]
     },
     "execution_count": 10,
     "metadata": {},
     "output_type": "execute_result"
    }
   ],
   "source": [
    "jovian.commit()"
   ]
  },
  {
   "cell_type": "markdown",
   "metadata": {
    "id": "bCD1IQXab3CN"
   },
   "source": [
    "## Function 2 - np.char.count\n",
    "\n",
    "This function is used to count the number of single characters in a array. It is useful as it also provide some slicing options as well. "
   ]
  },
  {
   "cell_type": "code",
   "execution_count": 11,
   "metadata": {
    "colab": {
     "base_uri": "https://localhost:8080/"
    },
    "executionInfo": {
     "elapsed": 682,
     "status": "ok",
     "timestamp": 1629729740455,
     "user": {
      "displayName": "Syed Atif",
      "photoUrl": "https://lh3.googleusercontent.com/a-/AOh14Gijy0H6X_fb5gV6iXEf3gfUlW7IhmW5DoTVmaA8hw=s64",
      "userId": "02215579649076969447"
     },
     "user_tz": -330
    },
    "id": "rypAype_b3CO",
    "outputId": "79f2eae6-f143-4933-a1ec-d7e6f2fe040a"
   },
   "outputs": [
    {
     "data": {
      "text/plain": [
       "array([1, 0, 0, 2])"
      ]
     },
     "execution_count": 11,
     "metadata": {},
     "output_type": "execute_result"
    }
   ],
   "source": [
    "# Example 1 - working\n",
    "a= np.array(['clAAgye','PerrGy','RooYYu','Gillo'])\n",
    "\n",
    "np.char.count(a,'l')"
   ]
  },
  {
   "cell_type": "markdown",
   "metadata": {
    "id": "07y0OT8qb3CO"
   },
   "source": [
    "In this example we randomly form the array of any character and used the function the number of time it was repeated in the given array."
   ]
  },
  {
   "cell_type": "code",
   "execution_count": 12,
   "metadata": {
    "colab": {
     "base_uri": "https://localhost:8080/"
    },
    "executionInfo": {
     "elapsed": 427,
     "status": "ok",
     "timestamp": 1629729765832,
     "user": {
      "displayName": "Syed Atif",
      "photoUrl": "https://lh3.googleusercontent.com/a-/AOh14Gijy0H6X_fb5gV6iXEf3gfUlW7IhmW5DoTVmaA8hw=s64",
      "userId": "02215579649076969447"
     },
     "user_tz": -330
    },
    "id": "0d5dIxxyb3CP",
    "outputId": "93552b93-b7d5-4dd7-832e-06e93fbabfd9"
   },
   "outputs": [
    {
     "data": {
      "text/plain": [
       "array([1, 2, 1])"
      ]
     },
     "execution_count": 12,
     "metadata": {},
     "output_type": "execute_result"
    }
   ],
   "source": [
    "# Example 2 - working\n",
    "b= np.array(['this is my house','Copt it','Dont ruin it'])\n",
    "\n",
    "np.char.count(b,'t',start=0,end=8)"
   ]
  },
  {
   "cell_type": "markdown",
   "metadata": {
    "id": "zi0ZdkvAb3CP"
   },
   "source": [
    "In this example we use np.char.count function to count the numberof characters in the specific item of an array.In this process we also used slicing option to count the specific characters fromthe specific point.In this example we start to count from index position 0 and end at index position 7. "
   ]
  },
  {
   "cell_type": "code",
   "execution_count": 13,
   "metadata": {
    "colab": {
     "base_uri": "https://localhost:8080/",
     "height": 360
    },
    "executionInfo": {
     "elapsed": 500,
     "status": "error",
     "timestamp": 1629729791799,
     "user": {
      "displayName": "Syed Atif",
      "photoUrl": "https://lh3.googleusercontent.com/a-/AOh14Gijy0H6X_fb5gV6iXEf3gfUlW7IhmW5DoTVmaA8hw=s64",
      "userId": "02215579649076969447"
     },
     "user_tz": -330
    },
    "id": "iUOWHTJsb3CQ",
    "outputId": "fb543c3c-fab8-484e-a57d-024de6f7c144"
   },
   "outputs": [
    {
     "ename": "TypeError",
     "evalue": "ignored",
     "output_type": "error",
     "traceback": [
      "\u001b[0;31m---------------------------------------------------------------------------\u001b[0m",
      "\u001b[0;31mTypeError\u001b[0m                                 Traceback (most recent call last)",
      "\u001b[0;32m<ipython-input-13-1e2fd15a62a2>\u001b[0m in \u001b[0;36m<module>\u001b[0;34m()\u001b[0m\n\u001b[1;32m      2\u001b[0m \u001b[0mx\u001b[0m\u001b[0;34m=\u001b[0m \u001b[0mnp\u001b[0m\u001b[0;34m.\u001b[0m\u001b[0marray\u001b[0m\u001b[0;34m(\u001b[0m\u001b[0;34m[\u001b[0m\u001b[0;34m'driiuih'\u001b[0m\u001b[0;34m,\u001b[0m\u001b[0;34m'ndiosi'\u001b[0m\u001b[0;34m,\u001b[0m\u001b[0;34m'minyure'\u001b[0m\u001b[0;34m]\u001b[0m\u001b[0;34m)\u001b[0m\u001b[0;34m\u001b[0m\u001b[0;34m\u001b[0m\u001b[0m\n\u001b[1;32m      3\u001b[0m \u001b[0;34m\u001b[0m\u001b[0m\n\u001b[0;32m----> 4\u001b[0;31m \u001b[0mnp\u001b[0m\u001b[0;34m.\u001b[0m\u001b[0mchar\u001b[0m\u001b[0;34m.\u001b[0m\u001b[0mcount\u001b[0m\u001b[0;34m(\u001b[0m\u001b[0mx\u001b[0m\u001b[0;34m,\u001b[0m\u001b[0;34m'i'\u001b[0m\u001b[0;34m,\u001b[0m\u001b[0mstart\u001b[0m\u001b[0;34m=\u001b[0m\u001b[0;34m'd'\u001b[0m\u001b[0;34m,\u001b[0m\u001b[0mend\u001b[0m\u001b[0;34m=\u001b[0m\u001b[0;34m's'\u001b[0m\u001b[0;34m)\u001b[0m\u001b[0;34m\u001b[0m\u001b[0;34m\u001b[0m\u001b[0m\n\u001b[0m",
      "\u001b[0;32m<__array_function__ internals>\u001b[0m in \u001b[0;36mcount\u001b[0;34m(*args, **kwargs)\u001b[0m\n",
      "\u001b[0;32m/usr/local/lib/python3.7/dist-packages/numpy/core/defchararray.py\u001b[0m in \u001b[0;36mcount\u001b[0;34m(a, sub, start, end)\u001b[0m\n\u001b[1;32m    505\u001b[0m \u001b[0;34m\u001b[0m\u001b[0m\n\u001b[1;32m    506\u001b[0m     \"\"\"\n\u001b[0;32m--> 507\u001b[0;31m     \u001b[0;32mreturn\u001b[0m \u001b[0m_vec_string\u001b[0m\u001b[0;34m(\u001b[0m\u001b[0ma\u001b[0m\u001b[0;34m,\u001b[0m \u001b[0mint_\u001b[0m\u001b[0;34m,\u001b[0m \u001b[0;34m'count'\u001b[0m\u001b[0;34m,\u001b[0m \u001b[0;34m[\u001b[0m\u001b[0msub\u001b[0m\u001b[0;34m,\u001b[0m \u001b[0mstart\u001b[0m\u001b[0;34m]\u001b[0m \u001b[0;34m+\u001b[0m \u001b[0m_clean_args\u001b[0m\u001b[0;34m(\u001b[0m\u001b[0mend\u001b[0m\u001b[0;34m)\u001b[0m\u001b[0;34m)\u001b[0m\u001b[0;34m\u001b[0m\u001b[0;34m\u001b[0m\u001b[0m\n\u001b[0m\u001b[1;32m    508\u001b[0m \u001b[0;34m\u001b[0m\u001b[0m\n\u001b[1;32m    509\u001b[0m \u001b[0;34m\u001b[0m\u001b[0m\n",
      "\u001b[0;31mTypeError\u001b[0m: slice indices must be integers or None or have an __index__ method"
     ]
    }
   ],
   "source": [
    "# Example 3 - breaking \n",
    "x= np.array(['driiuih','ndiosi','minyure'])\n",
    "\n",
    "np.char.count(x,'i',start='d',end='s')"
   ]
  },
  {
   "cell_type": "markdown",
   "metadata": {
    "id": "nZGSVU0vb3CR"
   },
   "source": [
    "In this example we tried to use alphabet instead of integer to define the starting point and ending point of a countingof character process but it terminated  without giving result and showed the error message. This is because we cannot use alphabet for slicing.To run it properly we should use integer."
   ]
  },
  {
   "cell_type": "markdown",
   "metadata": {
    "id": "DX4sxp_Ib3CR"
   },
   "source": [
    "We can find the number of any characters by using np.char.count function in short span of time. It will save our time of seaarching for specific character."
   ]
  },
  {
   "cell_type": "code",
   "execution_count": 14,
   "metadata": {
    "colab": {
     "base_uri": "https://localhost:8080/",
     "height": 87
    },
    "executionInfo": {
     "elapsed": 3255,
     "status": "ok",
     "timestamp": 1629729799201,
     "user": {
      "displayName": "Syed Atif",
      "photoUrl": "https://lh3.googleusercontent.com/a-/AOh14Gijy0H6X_fb5gV6iXEf3gfUlW7IhmW5DoTVmaA8hw=s64",
      "userId": "02215579649076969447"
     },
     "user_tz": -330
    },
    "id": "TBA_snBQb3CR",
    "outputId": "253f46a2-b5bc-47e4-e9b6-4f4875bf0a12"
   },
   "outputs": [
    {
     "name": "stdout",
     "output_type": "stream",
     "text": [
      "[jovian] Detected Colab notebook...\u001b[0m\n",
      "[jovian] Uploading colab notebook to Jovian...\u001b[0m\n",
      "Committed successfully! https://jovian.ai/syedatif4118/numpy-array-operations\n"
     ]
    },
    {
     "data": {
      "application/vnd.google.colaboratory.intrinsic+json": {
       "type": "string"
      },
      "text/plain": [
       "'https://jovian.ai/syedatif4118/numpy-array-operations'"
      ]
     },
     "execution_count": 14,
     "metadata": {},
     "output_type": "execute_result"
    }
   ],
   "source": [
    "jovian.commit()"
   ]
  },
  {
   "cell_type": "markdown",
   "metadata": {
    "id": "iUcYYG9gb3CS"
   },
   "source": [
    "## Function 3 - np.place\n",
    "\n",
    "This function is used to place some values for the specfic values of the elements of the array. "
   ]
  },
  {
   "cell_type": "code",
   "execution_count": 15,
   "metadata": {
    "colab": {
     "base_uri": "https://localhost:8080/"
    },
    "executionInfo": {
     "elapsed": 439,
     "status": "ok",
     "timestamp": 1629729823285,
     "user": {
      "displayName": "Syed Atif",
      "photoUrl": "https://lh3.googleusercontent.com/a-/AOh14Gijy0H6X_fb5gV6iXEf3gfUlW7IhmW5DoTVmaA8hw=s64",
      "userId": "02215579649076969447"
     },
     "user_tz": -330
    },
    "id": "Z1bYvVrWb3CT",
    "outputId": "be9c69ea-a658-4ed9-eb08-74aa28e1346c"
   },
   "outputs": [
    {
     "data": {
      "text/plain": [
       "array([[ 5,  5],\n",
       "       [12, 11]])"
      ]
     },
     "execution_count": 15,
     "metadata": {},
     "output_type": "execute_result"
    }
   ],
   "source": [
    "# Example 1 - working\n",
    "\n",
    "p=np.array([[3,3],\n",
    "          [12,11]])\n",
    "\n",
    "np.place(p,p==3,5)\n",
    "\n",
    "p"
   ]
  },
  {
   "cell_type": "markdown",
   "metadata": {
    "id": "tqR5NJnGb3CT"
   },
   "source": [
    "In this example we create a array, then we like to replace the elements of array with some specific element. So we put a condition in which if the element of array is equal to 3 it would be replaced by number 5."
   ]
  },
  {
   "cell_type": "code",
   "execution_count": 16,
   "metadata": {
    "colab": {
     "base_uri": "https://localhost:8080/"
    },
    "executionInfo": {
     "elapsed": 459,
     "status": "ok",
     "timestamp": 1629729904184,
     "user": {
      "displayName": "Syed Atif",
      "photoUrl": "https://lh3.googleusercontent.com/a-/AOh14Gijy0H6X_fb5gV6iXEf3gfUlW7IhmW5DoTVmaA8hw=s64",
      "userId": "02215579649076969447"
     },
     "user_tz": -330
    },
    "id": "Ftv_GJeDb3CU",
    "outputId": "f9572461-d92a-4d88-8e3b-cdb522517efb"
   },
   "outputs": [
    {
     "data": {
      "text/plain": [
       "array([[ 0,  1,  2],\n",
       "       [34, 22, 34],\n",
       "       [22, 34, 22]])"
      ]
     },
     "execution_count": 16,
     "metadata": {},
     "output_type": "execute_result"
    }
   ],
   "source": [
    "# Example 2 - working\n",
    "\n",
    "x=np.arange(9).reshape(3,3)\n",
    "\n",
    "np.place(x,x>2,[34,22])\n",
    "x\n",
    "    "
   ]
  },
  {
   "cell_type": "markdown",
   "metadata": {
    "id": "cVe5FXo3b3CU"
   },
   "source": [
    "It is a little bit of advaned form of previous example. In this example we create a (3,3) array then put on a condition in which if number is greater than 2, it would be replaced by the series of number 34 and 22 one after another."
   ]
  },
  {
   "cell_type": "code",
   "execution_count": 17,
   "metadata": {
    "colab": {
     "base_uri": "https://localhost:8080/",
     "height": 132
    },
    "executionInfo": {
     "elapsed": 406,
     "status": "error",
     "timestamp": 1629729930859,
     "user": {
      "displayName": "Syed Atif",
      "photoUrl": "https://lh3.googleusercontent.com/a-/AOh14Gijy0H6X_fb5gV6iXEf3gfUlW7IhmW5DoTVmaA8hw=s64",
      "userId": "02215579649076969447"
     },
     "user_tz": -330
    },
    "id": "CLqPK5Iib3CU",
    "outputId": "96b70266-eaaa-4896-8e6f-fb12d89fe15e"
   },
   "outputs": [
    {
     "ename": "SyntaxError",
     "evalue": "ignored",
     "output_type": "error",
     "traceback": [
      "\u001b[0;36m  File \u001b[0;32m\"<ipython-input-17-9405a9ea9e11>\"\u001b[0;36m, line \u001b[0;32m6\u001b[0m\n\u001b[0;31m    np.place(arr,arr!=3,[0:4])\u001b[0m\n\u001b[0m                          ^\u001b[0m\n\u001b[0;31mSyntaxError\u001b[0m\u001b[0;31m:\u001b[0m invalid syntax\n"
     ]
    }
   ],
   "source": [
    "# Example 3 - breaking (to illustrate when it breaks)\n",
    "arr=np.array([[3,4,7],\n",
    "               [4,6,9],\n",
    "               [8,0,2]])\n",
    "\n",
    "np.place(arr,arr!=3,[0:4])\n",
    "arr"
   ]
  },
  {
   "cell_type": "markdown",
   "metadata": {
    "id": "xHhTqv24b3CV"
   },
   "source": [
    "In this example, the error is generated. In this example we put a condition in which we used a range of number to replace specific numbers  which is not valid. So, in order to get out we should replace the range of numbers by a single nmber or a list of numbers."
   ]
  },
  {
   "cell_type": "markdown",
   "metadata": {
    "id": "x3XwkskNb3CV"
   },
   "source": [
    "Some closing comments about when to use this function."
   ]
  },
  {
   "cell_type": "code",
   "execution_count": 18,
   "metadata": {
    "colab": {
     "base_uri": "https://localhost:8080/",
     "height": 87
    },
    "executionInfo": {
     "elapsed": 2314,
     "status": "ok",
     "timestamp": 1629730000330,
     "user": {
      "displayName": "Syed Atif",
      "photoUrl": "https://lh3.googleusercontent.com/a-/AOh14Gijy0H6X_fb5gV6iXEf3gfUlW7IhmW5DoTVmaA8hw=s64",
      "userId": "02215579649076969447"
     },
     "user_tz": -330
    },
    "id": "ror3r9Oab3CW",
    "outputId": "7eeda926-3916-448b-99d5-2943e82b95b8"
   },
   "outputs": [
    {
     "name": "stdout",
     "output_type": "stream",
     "text": [
      "[jovian] Detected Colab notebook...\u001b[0m\n",
      "[jovian] Uploading colab notebook to Jovian...\u001b[0m\n",
      "Committed successfully! https://jovian.ai/syedatif4118/numpy-array-operations\n"
     ]
    },
    {
     "data": {
      "application/vnd.google.colaboratory.intrinsic+json": {
       "type": "string"
      },
      "text/plain": [
       "'https://jovian.ai/syedatif4118/numpy-array-operations'"
      ]
     },
     "execution_count": 18,
     "metadata": {},
     "output_type": "execute_result"
    }
   ],
   "source": [
    "jovian.commit()"
   ]
  },
  {
   "cell_type": "markdown",
   "metadata": {
    "id": "hZCszKtPb3CW"
   },
   "source": [
    "## Function 4 - np.extract\n",
    "\n",
    "np.extract function is used to get the specific elements of the array which satisfy some specific condition## Function 3 - ???\n",
    "\n",
    "Add some explanations"
   ]
  },
  {
   "cell_type": "code",
   "execution_count": 19,
   "metadata": {
    "colab": {
     "base_uri": "https://localhost:8080/"
    },
    "executionInfo": {
     "elapsed": 399,
     "status": "ok",
     "timestamp": 1629730054661,
     "user": {
      "displayName": "Syed Atif",
      "photoUrl": "https://lh3.googleusercontent.com/a-/AOh14Gijy0H6X_fb5gV6iXEf3gfUlW7IhmW5DoTVmaA8hw=s64",
      "userId": "02215579649076969447"
     },
     "user_tz": -330
    },
    "id": "o7edAw7kb3CX",
    "outputId": "16f71269-b665-484a-d6a4-69aa7e176d8b"
   },
   "outputs": [
    {
     "data": {
      "text/plain": [
       "array([9, 8, 5, 8])"
      ]
     },
     "execution_count": 19,
     "metadata": {},
     "output_type": "execute_result"
    }
   ],
   "source": [
    "# Example 1 - working\n",
    "a=np.array([[2,9,4],\n",
    "            [4,8,5],\n",
    "            [0,8,4]])\n",
    "condition=a>4\n",
    "condition\n",
    "\n",
    "np.extract(condition,a)"
   ]
  },
  {
   "cell_type": "markdown",
   "metadata": {
    "id": "vLIsf5bGb3CX"
   },
   "source": [
    "In this example we used np.extract function to extract the value which satisfy the contion of a>4."
   ]
  },
  {
   "cell_type": "code",
   "execution_count": 20,
   "metadata": {
    "colab": {
     "base_uri": "https://localhost:8080/"
    },
    "executionInfo": {
     "elapsed": 391,
     "status": "ok",
     "timestamp": 1629730079351,
     "user": {
      "displayName": "Syed Atif",
      "photoUrl": "https://lh3.googleusercontent.com/a-/AOh14Gijy0H6X_fb5gV6iXEf3gfUlW7IhmW5DoTVmaA8hw=s64",
      "userId": "02215579649076969447"
     },
     "user_tz": -330
    },
    "id": "BjLDkpSpb3CY",
    "outputId": "4e725760-2082-4772-f18d-b88307db0003"
   },
   "outputs": [
    {
     "data": {
      "text/plain": [
       "array([ 4,  8, 22,  6,  4, 16,  8, 22,  6])"
      ]
     },
     "execution_count": 20,
     "metadata": {},
     "output_type": "execute_result"
    }
   ],
   "source": [
    "# Example 2 - working\n",
    "b= np.array([[4,9,13],\n",
    "             [7,13,8],\n",
    "             [22,6,5]])\n",
    "c= np.array([[4,9,13],\n",
    "             [7,16,8],\n",
    "             [22,6,9]])\n",
    "condition=np.mod((b,c),2)==0\n",
    "\n",
    "np.extract(condition,(b,c))"
   ]
  },
  {
   "cell_type": "markdown",
   "metadata": {
    "id": "mD6WYlqNb3CY"
   },
   "source": [
    "In this example we used two arrays instead of single array and give a condition.While extracting the values we have to take care  that we are giving only two arguments."
   ]
  },
  {
   "cell_type": "code",
   "execution_count": 21,
   "metadata": {
    "colab": {
     "base_uri": "https://localhost:8080/",
     "height": 237
    },
    "executionInfo": {
     "elapsed": 459,
     "status": "error",
     "timestamp": 1629730119912,
     "user": {
      "displayName": "Syed Atif",
      "photoUrl": "https://lh3.googleusercontent.com/a-/AOh14Gijy0H6X_fb5gV6iXEf3gfUlW7IhmW5DoTVmaA8hw=s64",
      "userId": "02215579649076969447"
     },
     "user_tz": -330
    },
    "id": "vjkpUAeQb3CZ",
    "outputId": "8af3d89b-23e8-46d7-e244-460ad4b15a9c"
   },
   "outputs": [
    {
     "ename": "TypeError",
     "evalue": "ignored",
     "output_type": "error",
     "traceback": [
      "\u001b[0;31m---------------------------------------------------------------------------\u001b[0m",
      "\u001b[0;31mTypeError\u001b[0m                                 Traceback (most recent call last)",
      "\u001b[0;32m<ipython-input-21-407f67af567b>\u001b[0m in \u001b[0;36m<module>\u001b[0;34m()\u001b[0m\n\u001b[1;32m      7\u001b[0m              [22,6,9]])\n\u001b[1;32m      8\u001b[0m \u001b[0mcondition\u001b[0m\u001b[0;34m=\u001b[0m\u001b[0mnp\u001b[0m\u001b[0;34m.\u001b[0m\u001b[0mmod\u001b[0m\u001b[0;34m(\u001b[0m\u001b[0;34m(\u001b[0m\u001b[0mb\u001b[0m\u001b[0;34m,\u001b[0m\u001b[0mc\u001b[0m\u001b[0;34m)\u001b[0m\u001b[0;34m,\u001b[0m\u001b[0;36m2\u001b[0m\u001b[0;34m)\u001b[0m\u001b[0;34m==\u001b[0m\u001b[0;36m0\u001b[0m\u001b[0;34m\u001b[0m\u001b[0;34m\u001b[0m\u001b[0m\n\u001b[0;32m----> 9\u001b[0;31m \u001b[0mnp\u001b[0m\u001b[0;34m.\u001b[0m\u001b[0mextract\u001b[0m\u001b[0;34m(\u001b[0m\u001b[0mcondition\u001b[0m\u001b[0;34m,\u001b[0m\u001b[0mb\u001b[0m\u001b[0;34m,\u001b[0m\u001b[0mc\u001b[0m\u001b[0;34m)\u001b[0m\u001b[0;34m\u001b[0m\u001b[0;34m\u001b[0m\u001b[0m\n\u001b[0m",
      "\u001b[0;32m<__array_function__ internals>\u001b[0m in \u001b[0;36mextract\u001b[0;34m(*args, **kwargs)\u001b[0m\n",
      "\u001b[0;31mTypeError\u001b[0m: _extract_dispatcher() takes 2 positional arguments but 3 were given"
     ]
    }
   ],
   "source": [
    "# Example 3 - breaking (to illustrate when it breaks)\n",
    "b= np.array([[4,9,13],\n",
    "             [7,13,8],\n",
    "             [22,6,5]])\n",
    "c= np.array([[4,9,13],\n",
    "             [7,16,8],\n",
    "             [22,6,9]])\n",
    "condition=np.mod((b,c),2)==0\n",
    "np.extract(condition,b,c)"
   ]
  },
  {
   "cell_type": "markdown",
   "metadata": {
    "id": "jC9-wip_b3CZ"
   },
   "source": [
    "In this example the function breaks because we gave three arguments instead of two arguments in the extract function.This can be solved by givingonly two arguments in extract function."
   ]
  },
  {
   "cell_type": "markdown",
   "metadata": {
    "id": "aUF-Temnb3Ca"
   },
   "source": [
    "This function is very useful when we have toobtain certain elements fromthe array satisfying certain conditions."
   ]
  },
  {
   "cell_type": "code",
   "execution_count": 22,
   "metadata": {
    "colab": {
     "base_uri": "https://localhost:8080/",
     "height": 87
    },
    "executionInfo": {
     "elapsed": 2817,
     "status": "ok",
     "timestamp": 1629730149605,
     "user": {
      "displayName": "Syed Atif",
      "photoUrl": "https://lh3.googleusercontent.com/a-/AOh14Gijy0H6X_fb5gV6iXEf3gfUlW7IhmW5DoTVmaA8hw=s64",
      "userId": "02215579649076969447"
     },
     "user_tz": -330
    },
    "id": "_58h_WcMb3Ca",
    "outputId": "ad674b85-c26f-4ec9-ed4c-48ae7571af1e"
   },
   "outputs": [
    {
     "name": "stdout",
     "output_type": "stream",
     "text": [
      "[jovian] Detected Colab notebook...\u001b[0m\n",
      "[jovian] Uploading colab notebook to Jovian...\u001b[0m\n",
      "Committed successfully! https://jovian.ai/syedatif4118/numpy-array-operations\n"
     ]
    },
    {
     "data": {
      "application/vnd.google.colaboratory.intrinsic+json": {
       "type": "string"
      },
      "text/plain": [
       "'https://jovian.ai/syedatif4118/numpy-array-operations'"
      ]
     },
     "execution_count": 22,
     "metadata": {},
     "output_type": "execute_result"
    }
   ],
   "source": [
    "jovian.commit()"
   ]
  },
  {
   "cell_type": "markdown",
   "metadata": {
    "id": "ZyAAu0lgb3Cb"
   },
   "source": [
    "## Function 5 - np.clip\n",
    "\n",
    "It is used to display values within a limit."
   ]
  },
  {
   "cell_type": "code",
   "execution_count": 24,
   "metadata": {
    "colab": {
     "base_uri": "https://localhost:8080/"
    },
    "executionInfo": {
     "elapsed": 530,
     "status": "ok",
     "timestamp": 1629730190666,
     "user": {
      "displayName": "Syed Atif",
      "photoUrl": "https://lh3.googleusercontent.com/a-/AOh14Gijy0H6X_fb5gV6iXEf3gfUlW7IhmW5DoTVmaA8hw=s64",
      "userId": "02215579649076969447"
     },
     "user_tz": -330
    },
    "id": "queSDnM-b3Cb",
    "outputId": "cfaf8715-9cd0-4ede-909b-231675aa94b1"
   },
   "outputs": [
    {
     "data": {
      "text/plain": [
       "array([[1, 2, 5],\n",
       "       [3, 7, 8]])"
      ]
     },
     "execution_count": 24,
     "metadata": {},
     "output_type": "execute_result"
    }
   ],
   "source": [
    "# Example 1 - working\n",
    "b=np.array([[-1,2,5],\n",
    "            [3,7,9]])\n",
    "np.clip(b,1,8)"
   ]
  },
  {
   "cell_type": "markdown",
   "metadata": {
    "id": "cntJI8Fxb3Cc"
   },
   "source": [
    "In this example example we used clip function to limit the values of array within 1 and 8. If the values of array b are either less than 1 or greater than 8, it will display 1 and 8 respectively."
   ]
  },
  {
   "cell_type": "code",
   "execution_count": 25,
   "metadata": {
    "colab": {
     "base_uri": "https://localhost:8080/"
    },
    "executionInfo": {
     "elapsed": 431,
     "status": "ok",
     "timestamp": 1629730212547,
     "user": {
      "displayName": "Syed Atif",
      "photoUrl": "https://lh3.googleusercontent.com/a-/AOh14Gijy0H6X_fb5gV6iXEf3gfUlW7IhmW5DoTVmaA8hw=s64",
      "userId": "02215579649076969447"
     },
     "user_tz": -330
    },
    "id": "MrcR0LAjb3Cc",
    "outputId": "50f1c631-0f91-4090-d637-fa5c6915bd26"
   },
   "outputs": [
    {
     "data": {
      "text/plain": [
       "array([[2, 3, 4],\n",
       "       [5, 6, 7],\n",
       "       [7, 7, 7]])"
      ]
     },
     "execution_count": 25,
     "metadata": {},
     "output_type": "execute_result"
    }
   ],
   "source": [
    "# Example 2 - working\n",
    "a=np.array([[2,3,4],\n",
    "            [5,6,7],\n",
    "            [8,9,10]])\n",
    "np.clip(a,1,7, out=a)"
   ]
  },
  {
   "cell_type": "markdown",
   "metadata": {
    "id": "T3nlmm8Qb3Cc"
   },
   "source": [
    "In this example, we add another parameter out. It is used to preserve the value to the array.So when we again enter a then it gave the updated values then the old values. "
   ]
  },
  {
   "cell_type": "code",
   "execution_count": 28,
   "metadata": {
    "colab": {
     "base_uri": "https://localhost:8080/",
     "height": 384
    },
    "executionInfo": {
     "elapsed": 415,
     "status": "error",
     "timestamp": 1629730279448,
     "user": {
      "displayName": "Syed Atif",
      "photoUrl": "https://lh3.googleusercontent.com/a-/AOh14Gijy0H6X_fb5gV6iXEf3gfUlW7IhmW5DoTVmaA8hw=s64",
      "userId": "02215579649076969447"
     },
     "user_tz": -330
    },
    "id": "ChFfRMWTb3Cd",
    "outputId": "8457a055-dd2f-4d0d-87a7-5df210f6400a"
   },
   "outputs": [
    {
     "ename": "ValueError",
     "evalue": "ignored",
     "output_type": "error",
     "traceback": [
      "\u001b[0;31m---------------------------------------------------------------------------\u001b[0m",
      "\u001b[0;31mValueError\u001b[0m                                Traceback (most recent call last)",
      "\u001b[0;32m<ipython-input-28-67b5c8502458>\u001b[0m in \u001b[0;36m<module>\u001b[0;34m()\u001b[0m\n\u001b[1;32m      3\u001b[0m             \u001b[0;34m[\u001b[0m\u001b[0;36m5\u001b[0m\u001b[0;34m,\u001b[0m\u001b[0;36m6\u001b[0m\u001b[0;34m,\u001b[0m\u001b[0;36m7\u001b[0m\u001b[0;34m]\u001b[0m\u001b[0;34m,\u001b[0m\u001b[0;34m\u001b[0m\u001b[0;34m\u001b[0m\u001b[0m\n\u001b[1;32m      4\u001b[0m             [8,9,10]])\n\u001b[0;32m----> 5\u001b[0;31m \u001b[0mnp\u001b[0m\u001b[0;34m.\u001b[0m\u001b[0mclip\u001b[0m\u001b[0;34m(\u001b[0m\u001b[0ma\u001b[0m\u001b[0;34m,\u001b[0m\u001b[0;36m1\u001b[0m\u001b[0;34m,\u001b[0m\u001b[0;36m7\u001b[0m\u001b[0;34m,\u001b[0m \u001b[0mout\u001b[0m\u001b[0;34m=\u001b[0m\u001b[0mb\u001b[0m\u001b[0;34m)\u001b[0m\u001b[0;34m\u001b[0m\u001b[0;34m\u001b[0m\u001b[0m\n\u001b[0m",
      "\u001b[0;32m<__array_function__ internals>\u001b[0m in \u001b[0;36mclip\u001b[0;34m(*args, **kwargs)\u001b[0m\n",
      "\u001b[0;32m/usr/local/lib/python3.7/dist-packages/numpy/core/fromnumeric.py\u001b[0m in \u001b[0;36mclip\u001b[0;34m(a, a_min, a_max, out, **kwargs)\u001b[0m\n\u001b[1;32m   2095\u001b[0m \u001b[0;34m\u001b[0m\u001b[0m\n\u001b[1;32m   2096\u001b[0m     \"\"\"\n\u001b[0;32m-> 2097\u001b[0;31m     \u001b[0;32mreturn\u001b[0m \u001b[0m_wrapfunc\u001b[0m\u001b[0;34m(\u001b[0m\u001b[0ma\u001b[0m\u001b[0;34m,\u001b[0m \u001b[0;34m'clip'\u001b[0m\u001b[0;34m,\u001b[0m \u001b[0ma_min\u001b[0m\u001b[0;34m,\u001b[0m \u001b[0ma_max\u001b[0m\u001b[0;34m,\u001b[0m \u001b[0mout\u001b[0m\u001b[0;34m=\u001b[0m\u001b[0mout\u001b[0m\u001b[0;34m,\u001b[0m \u001b[0;34m**\u001b[0m\u001b[0mkwargs\u001b[0m\u001b[0;34m)\u001b[0m\u001b[0;34m\u001b[0m\u001b[0;34m\u001b[0m\u001b[0m\n\u001b[0m\u001b[1;32m   2098\u001b[0m \u001b[0;34m\u001b[0m\u001b[0m\n\u001b[1;32m   2099\u001b[0m \u001b[0;34m\u001b[0m\u001b[0m\n",
      "\u001b[0;32m/usr/local/lib/python3.7/dist-packages/numpy/core/fromnumeric.py\u001b[0m in \u001b[0;36m_wrapfunc\u001b[0;34m(obj, method, *args, **kwds)\u001b[0m\n\u001b[1;32m     56\u001b[0m \u001b[0;34m\u001b[0m\u001b[0m\n\u001b[1;32m     57\u001b[0m     \u001b[0;32mtry\u001b[0m\u001b[0;34m:\u001b[0m\u001b[0;34m\u001b[0m\u001b[0;34m\u001b[0m\u001b[0m\n\u001b[0;32m---> 58\u001b[0;31m         \u001b[0;32mreturn\u001b[0m \u001b[0mbound\u001b[0m\u001b[0;34m(\u001b[0m\u001b[0;34m*\u001b[0m\u001b[0margs\u001b[0m\u001b[0;34m,\u001b[0m \u001b[0;34m**\u001b[0m\u001b[0mkwds\u001b[0m\u001b[0;34m)\u001b[0m\u001b[0;34m\u001b[0m\u001b[0;34m\u001b[0m\u001b[0m\n\u001b[0m\u001b[1;32m     59\u001b[0m     \u001b[0;32mexcept\u001b[0m \u001b[0mTypeError\u001b[0m\u001b[0;34m:\u001b[0m\u001b[0;34m\u001b[0m\u001b[0;34m\u001b[0m\u001b[0m\n\u001b[1;32m     60\u001b[0m         \u001b[0;31m# A TypeError occurs if the object does have such a method in its\u001b[0m\u001b[0;34m\u001b[0m\u001b[0;34m\u001b[0m\u001b[0;34m\u001b[0m\u001b[0m\n",
      "\u001b[0;32m/usr/local/lib/python3.7/dist-packages/numpy/core/_methods.py\u001b[0m in \u001b[0;36m_clip\u001b[0;34m(a, min, max, out, casting, **kwargs)\u001b[0m\n\u001b[1;32m    139\u001b[0m     \u001b[0;32melse\u001b[0m\u001b[0;34m:\u001b[0m\u001b[0;34m\u001b[0m\u001b[0;34m\u001b[0m\u001b[0m\n\u001b[1;32m    140\u001b[0m         return _clip_dep_invoke_with_casting(\n\u001b[0;32m--> 141\u001b[0;31m             um.clip, a, min, max, out=out, casting=casting, **kwargs)\n\u001b[0m\u001b[1;32m    142\u001b[0m \u001b[0;34m\u001b[0m\u001b[0m\n\u001b[1;32m    143\u001b[0m \u001b[0;32mdef\u001b[0m \u001b[0m_mean\u001b[0m\u001b[0;34m(\u001b[0m\u001b[0ma\u001b[0m\u001b[0;34m,\u001b[0m \u001b[0maxis\u001b[0m\u001b[0;34m=\u001b[0m\u001b[0;32mNone\u001b[0m\u001b[0;34m,\u001b[0m \u001b[0mdtype\u001b[0m\u001b[0;34m=\u001b[0m\u001b[0;32mNone\u001b[0m\u001b[0;34m,\u001b[0m \u001b[0mout\u001b[0m\u001b[0;34m=\u001b[0m\u001b[0;32mNone\u001b[0m\u001b[0;34m,\u001b[0m \u001b[0mkeepdims\u001b[0m\u001b[0;34m=\u001b[0m\u001b[0;32mFalse\u001b[0m\u001b[0;34m)\u001b[0m\u001b[0;34m:\u001b[0m\u001b[0;34m\u001b[0m\u001b[0;34m\u001b[0m\u001b[0m\n",
      "\u001b[0;32m/usr/local/lib/python3.7/dist-packages/numpy/core/_methods.py\u001b[0m in \u001b[0;36m_clip_dep_invoke_with_casting\u001b[0;34m(ufunc, out, casting, *args, **kwargs)\u001b[0m\n\u001b[1;32m     92\u001b[0m     \u001b[0;31m# try to deal with broken casting rules\u001b[0m\u001b[0;34m\u001b[0m\u001b[0;34m\u001b[0m\u001b[0;34m\u001b[0m\u001b[0m\n\u001b[1;32m     93\u001b[0m     \u001b[0;32mtry\u001b[0m\u001b[0;34m:\u001b[0m\u001b[0;34m\u001b[0m\u001b[0;34m\u001b[0m\u001b[0m\n\u001b[0;32m---> 94\u001b[0;31m         \u001b[0;32mreturn\u001b[0m \u001b[0mufunc\u001b[0m\u001b[0;34m(\u001b[0m\u001b[0;34m*\u001b[0m\u001b[0margs\u001b[0m\u001b[0;34m,\u001b[0m \u001b[0mout\u001b[0m\u001b[0;34m=\u001b[0m\u001b[0mout\u001b[0m\u001b[0;34m,\u001b[0m \u001b[0;34m**\u001b[0m\u001b[0mkwargs\u001b[0m\u001b[0;34m)\u001b[0m\u001b[0;34m\u001b[0m\u001b[0;34m\u001b[0m\u001b[0m\n\u001b[0m\u001b[1;32m     95\u001b[0m     \u001b[0;32mexcept\u001b[0m \u001b[0m_exceptions\u001b[0m\u001b[0;34m.\u001b[0m\u001b[0m_UFuncOutputCastingError\u001b[0m \u001b[0;32mas\u001b[0m \u001b[0me\u001b[0m\u001b[0;34m:\u001b[0m\u001b[0;34m\u001b[0m\u001b[0;34m\u001b[0m\u001b[0m\n\u001b[1;32m     96\u001b[0m         \u001b[0;31m# Numpy 1.17.0, 2019-02-24\u001b[0m\u001b[0;34m\u001b[0m\u001b[0;34m\u001b[0m\u001b[0;34m\u001b[0m\u001b[0m\n",
      "\u001b[0;31mValueError\u001b[0m: operands could not be broadcast together with shapes (3,3) () () (2,3) "
     ]
    }
   ],
   "source": [
    "# Example 3 - breaking (to illustrate when it breaks)\n",
    "a=np.array([[2,3,4],\n",
    "            [5,6,7],\n",
    "            [8,9,10]])\n",
    "np.clip(a,1,7, out=b)"
   ]
  },
  {
   "cell_type": "markdown",
   "metadata": {
    "id": "piL1GmH8b3Cd"
   },
   "source": [
    "In this example the operation has broken down because we tried to store the (3,3) in (2,3) order matrix. This is not valid. We must store to the same type of array because its type is being saved. "
   ]
  },
  {
   "cell_type": "markdown",
   "metadata": {
    "id": "Itq7JqA9b3Cd"
   },
   "source": [
    "This function is quite useful in the view that we can limit our output within certain limits."
   ]
  },
  {
   "cell_type": "code",
   "execution_count": 29,
   "metadata": {
    "colab": {
     "base_uri": "https://localhost:8080/",
     "height": 87
    },
    "executionInfo": {
     "elapsed": 2230,
     "status": "ok",
     "timestamp": 1629730312595,
     "user": {
      "displayName": "Syed Atif",
      "photoUrl": "https://lh3.googleusercontent.com/a-/AOh14Gijy0H6X_fb5gV6iXEf3gfUlW7IhmW5DoTVmaA8hw=s64",
      "userId": "02215579649076969447"
     },
     "user_tz": -330
    },
    "id": "00U8A9efb3Ce",
    "outputId": "69cbe03a-63cf-4172-bd78-0a492e68d23b"
   },
   "outputs": [
    {
     "name": "stdout",
     "output_type": "stream",
     "text": [
      "[jovian] Detected Colab notebook...\u001b[0m\n",
      "[jovian] Uploading colab notebook to Jovian...\u001b[0m\n",
      "Committed successfully! https://jovian.ai/syedatif4118/numpy-array-operations\n"
     ]
    },
    {
     "data": {
      "application/vnd.google.colaboratory.intrinsic+json": {
       "type": "string"
      },
      "text/plain": [
       "'https://jovian.ai/syedatif4118/numpy-array-operations'"
      ]
     },
     "execution_count": 29,
     "metadata": {},
     "output_type": "execute_result"
    }
   ],
   "source": [
    "jovian.commit()"
   ]
  },
  {
   "cell_type": "markdown",
   "metadata": {
    "id": "5B_VWBNkb3Cf"
   },
   "source": [
    "Explanation about example"
   ]
  },
  {
   "cell_type": "code",
   "execution_count": null,
   "metadata": {
    "id": "BwvtTGJDb3Cf"
   },
   "outputs": [],
   "source": [
    "# Example 2 - working\n",
    "???"
   ]
  },
  {
   "cell_type": "markdown",
   "metadata": {
    "id": "ALEx6rYSb3Cg"
   },
   "source": [
    "Explanation about example"
   ]
  },
  {
   "cell_type": "code",
   "execution_count": null,
   "metadata": {
    "id": "ynFRdbpnb3Cg"
   },
   "outputs": [],
   "source": [
    "# Example 3 - breaking (to illustrate when it breaks)\n",
    "???"
   ]
  },
  {
   "cell_type": "markdown",
   "metadata": {
    "id": "q5qus5ZPb3Cg"
   },
   "source": [
    "Explanation about example (why it breaks and how to fix it)"
   ]
  },
  {
   "cell_type": "markdown",
   "metadata": {
    "id": "YxSkLzBsb3Ch"
   },
   "source": [
    "Some closing comments about when to use this function."
   ]
  },
  {
   "cell_type": "code",
   "execution_count": null,
   "metadata": {
    "id": "q_iagdiHb3Ch",
    "outputId": "bb16b443-706b-437e-96b0-63b20c3a5a29"
   },
   "outputs": [
    {
     "data": {
      "application/javascript": [
       "window.require && require([\"base/js/namespace\"],function(Jupyter){Jupyter.notebook.save_checkpoint()})"
      ],
      "text/plain": [
       "<IPython.core.display.Javascript object>"
      ]
     },
     "metadata": {},
     "output_type": "display_data"
    },
    {
     "name": "stdout",
     "output_type": "stream",
     "text": [
      "[jovian] Attempting to save notebook..\u001b[0m\n",
      "[jovian] Updating notebook \"aakashns/numpy-array-operations\" on https://jovian.ml/\u001b[0m\n",
      "[jovian] Uploading notebook..\u001b[0m\n",
      "[jovian] Capturing environment..\u001b[0m\n",
      "[jovian] Committed successfully! https://jovian.ml/aakashns/numpy-array-operations\u001b[0m\n"
     ]
    },
    {
     "data": {
      "text/plain": [
       "'https://jovian.ml/aakashns/numpy-array-operations'"
      ]
     },
     "execution_count": 28,
     "metadata": {},
     "output_type": "execute_result"
    }
   ],
   "source": [
    "jovian.commit()"
   ]
  },
  {
   "cell_type": "markdown",
   "metadata": {
    "id": "njLNLvoab3Cj"
   },
   "source": [
    "## Conclusion\n",
    "\n",
    "Summarize what was covered in this notebook, and where to go next"
   ]
  },
  {
   "cell_type": "markdown",
   "metadata": {
    "id": "AiMD7Q0_b3Cj"
   },
   "source": [
    "## Reference Links\n",
    "Provide links to your references and other interesting articles about Numpy arrays:\n",
    "* Numpy official tutorial : https://numpy.org/doc/stable/user/quickstart.html\n",
    "* ..."
   ]
  },
  {
   "cell_type": "code",
   "execution_count": null,
   "metadata": {
    "id": "53WE9p8vb3Cj",
    "outputId": "7f942c39-cdf0-4d0a-b381-2cc7fbebc8f6"
   },
   "outputs": [
    {
     "data": {
      "application/javascript": [
       "window.require && require([\"base/js/namespace\"],function(Jupyter){Jupyter.notebook.save_checkpoint()})"
      ],
      "text/plain": [
       "<IPython.core.display.Javascript object>"
      ]
     },
     "metadata": {},
     "output_type": "display_data"
    },
    {
     "name": "stdout",
     "output_type": "stream",
     "text": [
      "[jovian] Attempting to save notebook..\u001b[0m\n",
      "[jovian] Updating notebook \"aakashns/numpy-array-operations\" on https://jovian.ml/\u001b[0m\n",
      "[jovian] Uploading notebook..\u001b[0m\n",
      "[jovian] Capturing environment..\u001b[0m\n",
      "[jovian] Committed successfully! https://jovian.ml/aakashns/numpy-array-operations\u001b[0m\n"
     ]
    },
    {
     "data": {
      "text/plain": [
       "'https://jovian.ml/aakashns/numpy-array-operations'"
      ]
     },
     "execution_count": 30,
     "metadata": {},
     "output_type": "execute_result"
    }
   ],
   "source": [
    "jovian.commit()"
   ]
  },
  {
   "cell_type": "code",
   "execution_count": null,
   "metadata": {
    "id": "tgIMTouxb3Ck"
   },
   "outputs": [],
   "source": []
  }
 ],
 "metadata": {
  "colab": {
   "name": "numpy-array-operations.ipynb",
   "provenance": []
  },
  "language_info": {
   "codemirror_mode": {
    "name": "ipython",
    "version": 3
   },
   "file_extension": ".py",
   "mimetype": "text/x-python",
   "name": "python",
   "nbconvert_exporter": "python",
   "pygments_lexer": "ipython3",
   "version": "3.8.5"
  }
 },
 "nbformat": 4,
 "nbformat_minor": 0
}